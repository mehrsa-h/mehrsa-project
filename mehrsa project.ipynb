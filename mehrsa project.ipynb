{
 "cells": [
  {
   "cell_type": "code",
   "execution_count": 1,
   "metadata": {},
   "outputs": [
    {
     "name": "stdout",
     "output_type": "stream",
     "text": [
      "hello world\n"
     ]
    }
   ],
   "source": [
    "print('hello world')"
   ]
  },
  {
   "cell_type": "code",
   "execution_count": 4,
   "metadata": {},
   "outputs": [
    {
     "data": {
      "image/png": "[encoded data removed]",
      "text/plain": [
       "<Figure size 432x288 with 1 Axes>"
      ]
     },
     "metadata": {
      "needs_background": "light"
     },
     "output_type": "display_data"
    }
   ],
   "source": [
    "import matplotlib.pyplot as plt\n",
    "x=[1,2,3,4]\n",
    "y=[6,7,8,9]\n",
    "plt.plot(x,y)\n",
    "plt.xlabel('x-axis')\n",
    "plt.ylabel('y-axis')\n",
    "plt.title('mehrsa project')\n",
    "plt.show()"
   ]
  },
  {
   "cell_type": "markdown",
   "metadata": {},
   "source": [
    "name|familyname|birthday|\n",
    "---|---|---|\n",
    "*mehrsa*|`heidari`|**2000**"
   ]
  },
  {
   "cell_type": "code",
   "execution_count": 5,
   "metadata": {},
   "outputs": [
    {
     "name": "stdout",
     "output_type": "stream",
     "text": [
      "happy new year dear mehrsa\n",
      "happy new year dear abdolah\n",
      "happy new year dear yazdan\n",
      "happy new year dear mozhan\n"
     ]
    }
   ],
   "source": [
    "friends=['mehrsa','abdolah','yazdan','mozhan']\n",
    "for friend in friends:\n",
    "    print('happy new year','dear', friend)"
   ]
  },
  {
   "cell_type": "code",
   "execution_count": 1,
   "metadata": {},
   "outputs": [
    {
     "name": "stdout",
     "output_type": "stream",
     "text": [
      "here is the mean 3.5\n"
     ]
    }
   ],
   "source": [
    "num=[1,2,3,4,5,6]\n",
    "n=len(num)\n",
    "get_sum=sum(num)\n",
    "mean=get_sum/n\n",
    "print('here is the mean',mean)\n"
   ]
  },
  {
   "cell_type": "code",
   "execution_count": 4,
   "metadata": {},
   "outputs": [
    {
     "ename": "AttributeError",
     "evalue": "'int' object has no attribute 'sort'",
     "output_type": "error",
     "traceback": [
      "\u001b[1;31m---------------------------------------------------------------------------\u001b[0m",
      "\u001b[1;31mAttributeError\u001b[0m                            Traceback (most recent call last)",
      "\u001b[1;32m<ipython-input-4-806bd08dbfda>\u001b[0m in \u001b[0;36m<module>\u001b[1;34m\u001b[0m\n\u001b[0;32m      1\u001b[0m \u001b[0mnum\u001b[0m\u001b[1;33m=\u001b[0m\u001b[1;33m[\u001b[0m\u001b[1;36m1\u001b[0m\u001b[1;33m,\u001b[0m\u001b[1;36m2\u001b[0m\u001b[1;33m,\u001b[0m\u001b[1;36m3\u001b[0m\u001b[1;33m,\u001b[0m\u001b[1;36m4\u001b[0m\u001b[1;33m,\u001b[0m\u001b[1;36m5\u001b[0m\u001b[1;33m]\u001b[0m\u001b[1;33m\u001b[0m\u001b[1;33m\u001b[0m\u001b[0m\n\u001b[0;32m      2\u001b[0m \u001b[0mn_num\u001b[0m\u001b[1;33m=\u001b[0m\u001b[0mlen\u001b[0m\u001b[1;33m(\u001b[0m\u001b[0mnum\u001b[0m\u001b[1;33m)\u001b[0m\u001b[1;33m\u001b[0m\u001b[1;33m\u001b[0m\u001b[0m\n\u001b[1;32m----> 3\u001b[1;33m \u001b[0mn_num\u001b[0m\u001b[1;33m.\u001b[0m\u001b[0msort\u001b[0m\u001b[1;33m(\u001b[0m\u001b[1;33m)\u001b[0m\u001b[1;33m\u001b[0m\u001b[1;33m\u001b[0m\u001b[0m\n\u001b[0m\u001b[0;32m      4\u001b[0m \u001b[1;32mif\u001b[0m \u001b[0mn_num\u001b[0m\u001b[1;33m%\u001b[0m\u001b[1;36m2\u001b[0m\u001b[1;33m==\u001b[0m\u001b[1;36m0\u001b[0m\u001b[1;33m:\u001b[0m\u001b[1;33m\u001b[0m\u001b[1;33m\u001b[0m\u001b[0m\n\u001b[0;32m      5\u001b[0m    \u001b[0mmedian1\u001b[0m\u001b[1;33m=\u001b[0m\u001b[1;33m(\u001b[0m\u001b[0mn_num\u001b[0m\u001b[1;33m//\u001b[0m\u001b[1;36m2\u001b[0m\u001b[1;33m)\u001b[0m\u001b[1;33m\u001b[0m\u001b[1;33m\u001b[0m\u001b[0m\n",
      "\u001b[1;31mAttributeError\u001b[0m: 'int' object has no attribute 'sort'"
     ]
    }
   ],
   "source": [
    "num=[1,2,3,4,5]\n",
    "n=len(num)\n",
    "n_num.sort()\n",
    "if n_num%2==0:\n",
    "   median1=(n_num//2)\n",
    "   median2=(n_num//2)\n",
    "   median=median1=median2/2\n",
    "else:\n",
    "    median=[n_num//2]\n",
    "print('median is',str(median) )   \n",
    "    "
   ]
  },
  {
   "cell_type": "code",
   "execution_count": 6,
   "metadata": {},
   "outputs": [
    {
     "name": "stdout",
     "output_type": "stream",
     "text": [
      "Median is: 15\n"
     ]
    }
   ],
   "source": [
    "n_num = [12, 28, 43, 4, 15]\n",
    "n = len(n_num)\n",
    "n_num.sort()\n",
    "  \n",
    "if n % 2 == 0:\n",
    "    median1 = n_num[n//2]\n",
    "    median2 = n_num[n//2 - 1]\n",
    "    median = (median1 + median2)/2\n",
    "else:\n",
    "    median = n_num[n//2]\n",
    "print(\"Median is: \" + str(median))"
   ]
  },
  {
   "cell_type": "code",
   "execution_count": 9,
   "metadata": {},
   "outputs": [
    {
     "data": {
      "text/plain": [
       "1.5"
      ]
     },
     "execution_count": 9,
     "metadata": {},
     "output_type": "execute_result"
    }
   ],
   "source": [
    "3/2"
   ]
  },
  {
   "cell_type": "code",
   "execution_count": 18,
   "metadata": {
    "scrolled": true
   },
   "outputs": [
    {
     "data": {
      "text/plain": [
       "[<matplotlib.lines.Line2D at 0x1d9b0ebad00>]"
      ]
     },
     "execution_count": 18,
     "metadata": {},
     "output_type": "execute_result"
    },
    {
     "data": {
      "image/png": "[encoded data removed]",
      "text/plain": [
       "<Figure size 432x288 with 1 Axes>"
      ]
     },
     "metadata": {
      "needs_background": "light"
     },
     "output_type": "display_data"
    }
   ],
   "source": [
    "import matplotlib.pyplot as plt\n",
    "plt.plot([2,2,4,6,7,8],[1,3,4,5,6,7],color='red',label='main graph',linewidth=2)"
   ]
  },
  {
   "cell_type": "code",
   "execution_count": 16,
   "metadata": {},
   "outputs": [
    {
     "data": {
      "image/png": "[encoded data removed]",
      "text/plain": [
       "<Figure size 432x288 with 1 Axes>"
      ]
     },
     "metadata": {
      "needs_background": "light"
     },
     "output_type": "display_data"
    }
   ],
   "source": [
    "import numpy as np\n",
    "import matplotlib.pyplot as plt\n",
    "\n",
    "# evenly sampled time at 200ms intervals\n",
    "t = np.arange(0., 5., 0.2)\n",
    "\n",
    "# red dashes, blue squares and green triangles\n",
    "plt.plot(t, t, 'r--', t, t**2, 'bs', t, t**3, 'g^')\n",
    "plt.show()"
   ]
  },
  {
   "cell_type": "code",
   "execution_count": 42,
   "metadata": {},
   "outputs": [
    {
     "name": "stdout",
     "output_type": "stream",
     "text": [
      "[4.5, 8.125, 7.428571428571429]\n"
     ]
    },
    {
     "data": {
      "image/png": "[encoded data removed]",
      "text/plain": [
       "<Figure size 432x288 with 1 Axes>"
      ]
     },
     "metadata": {
      "needs_background": "light"
     },
     "output_type": "display_data"
    }
   ],
   "source": [
    "import numpy as np\n",
    "import matplotlib.pyplot as plt\n",
    "\n",
    "sample1=[1,2,3,4,5,6,7,8]\n",
    "sample2=[7,8,9,10,12,5,6,8]\n",
    "sample3=[3,4,5,6,7,8,19]\n",
    "mean1=sum(sample1)/len(sample1)\n",
    "mean2=sum(sample2)/len(sample2)\n",
    "mean3=sum(sample3)/len(sample3)\n",
    "list=[mean1,mean2,mean3]\n",
    "print(list)    \n",
    "left=('mean1','mean2','mean3')\n",
    "height=(mean1,mean2,mean3)\n",
    "tick_label=('mean1','mean2','mean3')\n",
    "plt.bar(left ,height,tick_label = tick_label,\n",
    "        width = 0.8, color = ['red', 'green'])\n",
    "plt.xlabel('mean group')\n",
    "# naming the y-axis\n",
    "plt.ylabel('mean values')\n",
    "# plot title\n",
    "plt.title('FINALLY MEAN CHART!!!')\n",
    "  \n",
    "# function to show the plot\n",
    "plt.show()\n",
    "    \n",
    "    "
   ]
  },
  {
   "cell_type": "code",
   "execution_count": 23,
   "metadata": {},
   "outputs": [
    {
     "ename": "AttributeError",
     "evalue": "'circle' object has no attribute 'drawcircle'",
     "output_type": "error",
     "traceback": [
      "\u001b[1;31m---------------------------------------------------------------------------\u001b[0m",
      "\u001b[1;31mAttributeError\u001b[0m                            Traceback (most recent call last)",
      "\u001b[1;32m<ipython-input-23-b3df428093e5>\u001b[0m in \u001b[0;36m<module>\u001b[1;34m\u001b[0m\n\u001b[0;32m     18\u001b[0m         \u001b[0mplt\u001b[0m\u001b[1;33m.\u001b[0m\u001b[0mshow\u001b[0m\u001b[1;33m(\u001b[0m\u001b[1;33m)\u001b[0m\u001b[1;33m\u001b[0m\u001b[1;33m\u001b[0m\u001b[0m\n\u001b[0;32m     19\u001b[0m \u001b[0mredcircle\u001b[0m\u001b[1;33m=\u001b[0m\u001b[0mcircle\u001b[0m\u001b[1;33m(\u001b[0m\u001b[1;36m10\u001b[0m\u001b[1;33m,\u001b[0m\u001b[1;34m'red'\u001b[0m\u001b[1;33m)\u001b[0m\u001b[1;33m\u001b[0m\u001b[1;33m\u001b[0m\u001b[0m\n\u001b[1;32m---> 20\u001b[1;33m \u001b[0mredcircle\u001b[0m\u001b[1;33m.\u001b[0m\u001b[0mdrawcircle\u001b[0m\u001b[1;33m(\u001b[0m\u001b[1;33m)\u001b[0m\u001b[1;33m\u001b[0m\u001b[1;33m\u001b[0m\u001b[0m\n\u001b[0m",
      "\u001b[1;31mAttributeError\u001b[0m: 'circle' object has no attribute 'drawcircle'"
     ]
    }
   ],
   "source": [
    "import matplotlib.pyplot as plt\n",
    "class Circle(object):\n",
    "    \n",
    "    # Constructor\n",
    "    def __init__(self, radius=3, color='blue'):\n",
    "        self.radius = radius\n",
    "        self.color = color \n",
    "    \n",
    "    # Method\n",
    "    def add_radius(self, r):\n",
    "        self.radius = self.radius + r\n",
    "        return(self.radius)\n",
    "    \n",
    "    # Method\n",
    "    def drawCircle(self):\n",
    "        plt.gca().add_patch(plt.Circle((0, 0), radius=self.radius, fc=self.color))\n",
    "        plt.axis('scaled')\n",
    "        plt.show()\n",
    "redcircle=circle(10,'red')\n",
    "redcircle.drawcircle()"
   ]
  },
  {
   "cell_type": "code",
   "execution_count": 36,
   "metadata": {},
   "outputs": [
    {
     "name": "stdout",
     "output_type": "stream",
     "text": [
      "['heidari', 'sohrabi', 'barzgar']\n",
      "['mehrsa', 'ali', 'mohammad']\n"
     ]
    }
   ],
   "source": [
    "a={'name':['mehrsa','ali','mohammad'],'family':['heidari','sohrabi','barzgar']}\n",
    "print(a.get('family'))\n",
    "print(a.get('name'))\n",
    "b=['mehrsa','yazdan']"
   ]
  },
  {
   "cell_type": "code",
   "execution_count": null,
   "metadata": {},
   "outputs": [],
   "source": [
    "def add_values_in_dict(sample_dict, key, list_of_values):\n",
    "    \"\"\"Append multiple values to a key in the given dictionary\"\"\"\n",
    "    if key not in sample_dict:\n",
    "        sample_dict[key] = list()\n",
    "    sample_dict[key].extend(list_of_values)\n",
    "    return sample_dict"
   ]
  },
  {
   "cell_type": "code",
   "execution_count": 41,
   "metadata": {},
   "outputs": [
    {
     "name": "stdout",
     "output_type": "stream",
     "text": [
      "['heidari', 'sohrabi', 'barzgar']\n",
      "['mehrsa', 'ali', 'mohammad']\n"
     ]
    }
   ],
   "source": [
    "a={'name':['mehrsa','ali','mohammad'],'family':['heidari','sohrabi','barzgar']}\n",
    "print(a.get('family'))\n",
    "print(a.get('name'))\n",
    "b=['mehrsa','yazdan','aysa']\n",
    "def add_values(a,name,b):\n",
    "    if name not in a:\n",
    "        a['name']=list()\n",
    "        a['name'].extend(b)\n",
    "        return(a)\n",
    "    \n",
    "    \n"
   ]
  },
  {
   "cell_type": "code",
   "execution_count": 42,
   "metadata": {},
   "outputs": [
    {
     "ename": "KeyError",
     "evalue": "'age'",
     "output_type": "error",
     "traceback": [
      "\u001b[1;31m---------------------------------------------------------------------------\u001b[0m",
      "\u001b[1;31mKeyError\u001b[0m                                  Traceback (most recent call last)",
      "\u001b[1;32m<ipython-input-42-852d04d4bea2>\u001b[0m in \u001b[0;36m<module>\u001b[1;34m\u001b[0m\n\u001b[0;32m      1\u001b[0m \u001b[0mdict1\u001b[0m \u001b[1;33m=\u001b[0m \u001b[1;33m{\u001b[0m\u001b[1;34m\"name\"\u001b[0m\u001b[1;33m:\u001b[0m \u001b[1;34m\"Mike\"\u001b[0m\u001b[1;33m,\u001b[0m \u001b[1;34m\"salary\"\u001b[0m\u001b[1;33m:\u001b[0m \u001b[1;36m8000\u001b[0m\u001b[1;33m}\u001b[0m\u001b[1;33m\u001b[0m\u001b[1;33m\u001b[0m\u001b[0m\n\u001b[1;32m----> 2\u001b[1;33m \u001b[0mtemp\u001b[0m \u001b[1;33m=\u001b[0m \u001b[0mdict1\u001b[0m\u001b[1;33m.\u001b[0m\u001b[0mpop\u001b[0m\u001b[1;33m(\u001b[0m\u001b[1;34m\"age\"\u001b[0m\u001b[1;33m)\u001b[0m\u001b[1;33m\u001b[0m\u001b[1;33m\u001b[0m\u001b[0m\n\u001b[0m\u001b[0;32m      3\u001b[0m \u001b[0mprint\u001b[0m\u001b[1;33m(\u001b[0m\u001b[0mtemp\u001b[0m\u001b[1;33m)\u001b[0m\u001b[1;33m\u001b[0m\u001b[1;33m\u001b[0m\u001b[0m\n",
      "\u001b[1;31mKeyError\u001b[0m: 'age'"
     ]
    }
   ],
   "source": [
    "dict1 = {\"name\": \"Mike\", \"salary\": 8000}\n",
    "temp = dict1.pop(\"age\")\n",
    "print(temp)"
   ]
  },
  {
   "cell_type": "code",
   "execution_count": 8,
   "metadata": {},
   "outputs": [
    {
     "name": "stdout",
     "output_type": "stream",
     "text": [
      "put your texthi my\n",
      "{'word in text': [['hi my']]}\n"
     ]
    }
   ],
   "source": [
    "\n",
    "    dic={'word in text':[]}\n",
    "    text=input('put your text')\n",
    "    text=text.lower()\n",
    "    text=text.split(',')\n",
    "    dic['word in text'].append(text)\n",
    "    print(dic)\n",
    "    "
   ]
  },
  {
   "cell_type": "code",
   "execution_count": 5,
   "metadata": {},
   "outputs": [
    {
     "name": "stdout",
     "output_type": "stream",
     "text": [
      "AxesSubplot(0.125,0.125;0.775x0.755)\n"
     ]
    },
    {
     "data": {
      "image/png": "[encoded data removed]",
      "text/plain": [
       "<Figure size 432x288 with 1 Axes>"
      ]
     },
     "metadata": {
      "needs_background": "light"
     },
     "output_type": "display_data"
    }
   ],
   "source": [
    "import pandas as pd\n",
    "songs={'album':['back in black','thrilled','mehrsa'],\n",
    "      'realesed':[1988,1979,2010],\n",
    "       'lenghth':['4:30:02','12:34:34','25:32:15']}\n",
    "song_frame=pd.DataFrame(songs)\n",
    "plot_frame=song_frame.plot()\n",
    "print(plot_frame)\n"
   ]
  },
  {
   "cell_type": "code",
   "execution_count": 6,
   "metadata": {},
   "outputs": [
    {
     "name": "stdout",
     "output_type": "stream",
     "text": [
      "the number of counts is  6\n"
     ]
    }
   ],
   "source": [
    "str_1='CTAGCTATGCGCGTTCGGCTATGCGACTATGCGCAGTATCACCTATGCGCTATGCGCTATGCGTGATTCTATGCGCCTATGCGACAGCTATGCGCTATGCGACTATGCGCGCAGGCTATGCGATCCCCTATGCGCTATGCGCACCACTATGCGTTCTATGCGCCTATGCGGCCTATGCGCTATGCGGGTCCTATGCGCTATGCGCTATGCGATCCTATGCGGTAGAACCCTATGCGCTTCTATGCGTCTATGCGGAACTATGCGCTATGCGTCTATGCGACCTATGCGCTATGCGGAGCTATGCGTGACTACTATGCGCCTATGCGCTATGCGAATCTATGCGTGCTATGCGTAGAACTATGCGTCCTATGCGCTATGCGGACTATGCGATCTATGCGCTATGCGCCTATGCGTCTATGCGACTATGCGACACTGGTCTATGCGTCCACTATGCGCTATGCGCACTATGCGGAGCTATGCGCTATGCGCTATGCGCTATGCGCGAGTCTATGCGTCTCGGGCTATGCGCTCCTATGCGTCGGCTTACACTATGCGCCGAAACTATGCGCTATGCGACTATGCGCCTATGCGGGTTACTATGCGATCATCTATGCGAGCTATGCGTACTATGCGAGGTCTATGCGGTCTATGCGACCTCGCTATGCGGTGCGCATATGCGTATGCTATGCGTACTTCTATGCGTCTATGCGCTACGTTTTGCTATGCGAGCTATGCGTGTCTATGCGTCCTATGCGCTATGCGCTATGCGCTATGCGCCTCGCTATGCGCTATGCGGTCTATGCGCAGCCTATGCGCCTATGCGCTATGCGCTATGCGCTATGCGCTATGCGTCACTATGCGACTATGCGCTATGCGGCCGTGTCTTCATCTATGCGGCTATGCGCTATGCGTCTATGCGATACTATGCGATGACTATGCGGCTATGCGCTATGCGCCCTATGCGTTCTATGCGCTATGCGCGAGGCTATGCGCTCTATGCGCCATCCTTCTATGCGGTTGGGGTCTATGCGACTATGCGCTATGCGCCGCTATGCGACTATGCG'\n",
    "\n",
    "numbers=len(str_1.split('GCA'))-1\n",
    "print('the number of counts is ', numbers)"
   ]
  },
  {
   "cell_type": "code",
   "execution_count": 2,
   "metadata": {},
   "outputs": [
    {
     "name": "stdout",
     "output_type": "stream",
     "text": [
      "{'CGC': 2, 'GCC': 3, 'CCT': 4, 'CTA': 1, 'TAA': 1, 'AAA': 1, 'AAT': 1, 'ATA': 2, 'TAG': 1, 'AGC': 2, 'CTC': 2, 'TCG': 2, 'GCG': 1, 'CGG': 1, 'GGA': 1, 'GAG': 1, 'CTT': 1, 'TTA': 1, 'TAT': 1, 'ATG': 1, 'TGT': 1, 'GTA': 1, 'TAC': 2, 'ACA': 1, 'CAT': 1, 'ACT': 1, 'CGT': 1, 'GTC': 1, 'TCC': 1}\n",
      "most frequent 4-mer is\n",
      "['CCT']\n"
     ]
    }
   ],
   "source": [
    "text = \"CGCCTAAATAGCCTCGCGGAGCCTTATGTACATACTCGTCCT\" \n",
    "\n",
    "k= 3 \n",
    "\n",
    " \n",
    "\n",
    "def FrequencyMap(text, k):   \n",
    "\n",
    "    freq = {}   \n",
    "\n",
    "    n = len(text)   \n",
    "\n",
    "    for i in range(n-k+1):   \n",
    "\n",
    "        pattern = text[i:i+k]   \n",
    "\n",
    "        if pattern in freq:   \n",
    "\n",
    "            freq[pattern] += 1   \n",
    "\n",
    "        else:   \n",
    "\n",
    "            freq[pattern] = 1   \n",
    "\n",
    "    return freq   \n",
    "\n",
    "print(FrequencyMap(text, k))  \n",
    "\n",
    "def FrequentKmers(text, k):   \n",
    "\n",
    "    kmers = []   \n",
    "\n",
    "    freq = FrequencyMap(text, k)   \n",
    "\n",
    "    m = max(freq.values())   \n",
    "\n",
    "    for most_frequent_kmer in freq:   \n",
    "\n",
    "        if freq[most_frequent_kmer] == m:   \n",
    "\n",
    "          kmers.append(most_frequent_kmer)   \n",
    "\n",
    "    return kmers   \n",
    "\n",
    "print(\"most frequent 4-mer is\")  \n",
    "\n",
    "print(FrequentKmers(text, k)) "
   ]
  },
  {
   "cell_type": "code",
   "execution_count": 5,
   "metadata": {},
   "outputs": [
    {
     "name": "stdout",
     "output_type": "stream",
     "text": [
      "0\n"
     ]
    }
   ],
   "source": [
    "text = 'ATGACTTCGCTGTTACGCGC' \n",
    "pattern = 'CGC'\n",
    "import sys\n",
    "text = sys.argv[1]\n",
    "pattern = sys.argv[2]\n",
    "\n",
    "def count(text,pattern):\n",
    "\tcount = 0\n",
    "\tfor i in range(len(text) - len(pattern) + 1):\n",
    "\t\tif text[i:i+len(pattern)] == pattern:\n",
    "\t\t\tcount += 1\n",
    "\treturn count\n",
    "\n",
    "ans = count(text,pattern)\n",
    "\n",
    "print(ans)"
   ]
  },
  {
   "cell_type": "code",
   "execution_count": 6,
   "metadata": {},
   "outputs": [
    {
     "ename": "NameError",
     "evalue": "name 'xrange' is not defined",
     "output_type": "error",
     "traceback": [
      "\u001b[1;31m---------------------------------------------------------------------------\u001b[0m",
      "\u001b[1;31mNameError\u001b[0m                                 Traceback (most recent call last)",
      "\u001b[1;32m<ipython-input-6-3f5a627537e8>\u001b[0m in \u001b[0;36m<module>\u001b[1;34m\u001b[0m\n\u001b[0;32m     13\u001b[0m         \u001b[1;32mreturn\u001b[0m \u001b[0mstart_points\u001b[0m\u001b[1;33m\u001b[0m\u001b[1;33m\u001b[0m\u001b[0m\n\u001b[0;32m     14\u001b[0m \u001b[1;33m\u001b[0m\u001b[0m\n\u001b[1;32m---> 15\u001b[1;33m \u001b[0mans\u001b[0m \u001b[1;33m=\u001b[0m \u001b[0mpattern_match\u001b[0m\u001b[1;33m(\u001b[0m\u001b[0mpattern\u001b[0m\u001b[1;33m,\u001b[0m\u001b[0mgenome\u001b[0m\u001b[1;33m)\u001b[0m\u001b[1;33m\u001b[0m\u001b[1;33m\u001b[0m\u001b[0m\n\u001b[0m\u001b[0;32m     16\u001b[0m \u001b[1;33m\u001b[0m\u001b[0m\n\u001b[0;32m     17\u001b[0m \u001b[0mprint\u001b[0m\u001b[1;33m(\u001b[0m\u001b[1;34m\" \"\u001b[0m\u001b[1;33m.\u001b[0m\u001b[0mjoin\u001b[0m\u001b[1;33m(\u001b[0m\u001b[0mstr\u001b[0m\u001b[1;33m(\u001b[0m\u001b[0mx\u001b[0m\u001b[1;33m)\u001b[0m \u001b[1;32mfor\u001b[0m \u001b[0mx\u001b[0m \u001b[1;32min\u001b[0m \u001b[0mans\u001b[0m\u001b[1;33m)\u001b[0m\u001b[1;33m)\u001b[0m\u001b[1;33m\u001b[0m\u001b[1;33m\u001b[0m\u001b[0m\n",
      "\u001b[1;32m<ipython-input-6-3f5a627537e8>\u001b[0m in \u001b[0;36mpattern_match\u001b[1;34m(pattern, genome)\u001b[0m\n\u001b[0;32m      8\u001b[0m \u001b[1;32mdef\u001b[0m \u001b[0mpattern_match\u001b[0m\u001b[1;33m(\u001b[0m\u001b[0mpattern\u001b[0m\u001b[1;33m,\u001b[0m\u001b[0mgenome\u001b[0m\u001b[1;33m)\u001b[0m\u001b[1;33m:\u001b[0m\u001b[1;33m\u001b[0m\u001b[1;33m\u001b[0m\u001b[0m\n\u001b[0;32m      9\u001b[0m         \u001b[0mstart_points\u001b[0m \u001b[1;33m=\u001b[0m \u001b[1;33m[\u001b[0m\u001b[1;33m]\u001b[0m\u001b[1;33m\u001b[0m\u001b[1;33m\u001b[0m\u001b[0m\n\u001b[1;32m---> 10\u001b[1;33m         \u001b[1;32mfor\u001b[0m \u001b[0mi\u001b[0m \u001b[1;32min\u001b[0m \u001b[0mxrange\u001b[0m\u001b[1;33m(\u001b[0m\u001b[0mlen\u001b[0m\u001b[1;33m(\u001b[0m\u001b[0mgenome\u001b[0m\u001b[1;33m)\u001b[0m \u001b[1;33m-\u001b[0m \u001b[0mlen\u001b[0m\u001b[1;33m(\u001b[0m\u001b[0mpattern\u001b[0m\u001b[1;33m)\u001b[0m \u001b[1;33m+\u001b[0m \u001b[1;36m1\u001b[0m\u001b[1;33m)\u001b[0m\u001b[1;33m:\u001b[0m\u001b[1;33m\u001b[0m\u001b[1;33m\u001b[0m\u001b[0m\n\u001b[0m\u001b[0;32m     11\u001b[0m                 \u001b[1;32mif\u001b[0m \u001b[0mgenome\u001b[0m\u001b[1;33m[\u001b[0m\u001b[0mi\u001b[0m\u001b[1;33m:\u001b[0m\u001b[0mi\u001b[0m\u001b[1;33m+\u001b[0m\u001b[0mlen\u001b[0m\u001b[1;33m(\u001b[0m\u001b[0mpattern\u001b[0m\u001b[1;33m)\u001b[0m\u001b[1;33m]\u001b[0m \u001b[1;33m==\u001b[0m \u001b[0mpattern\u001b[0m\u001b[1;33m:\u001b[0m\u001b[1;33m\u001b[0m\u001b[1;33m\u001b[0m\u001b[0m\n\u001b[0;32m     12\u001b[0m                         \u001b[0mstart_points\u001b[0m\u001b[1;33m.\u001b[0m\u001b[0mappend\u001b[0m\u001b[1;33m(\u001b[0m\u001b[0mi\u001b[0m\u001b[1;33m)\u001b[0m\u001b[1;33m\u001b[0m\u001b[1;33m\u001b[0m\u001b[0m\n",
      "\u001b[1;31mNameError\u001b[0m: name 'xrange' is not defined"
     ]
    }
   ],
   "source": [
    "text = 'ATGACTTCGCTGTTACGCGC' \n",
    "pattern = 'CGC'\n",
    "import sys\n",
    "\n",
    "pattern = sys.argv[1]\n",
    "genome = sys.argv[2]\n",
    "\n",
    "def pattern_match(pattern,genome):\n",
    "\tstart_points = []\n",
    "\tfor i in xrange(len(genome) - len(pattern) + 1):\n",
    "\t\tif genome[i:i+len(pattern)] == pattern:\n",
    "\t\t\tstart_points.append(i)\n",
    "\treturn start_points\n",
    "\n",
    "ans = pattern_match(pattern,genome)\n",
    "\n",
    "print(\" \".join(str(x) for x in ans))"
   ]
  },
  {
   "cell_type": "code",
   "execution_count": null,
   "metadata": {},
   "outputs": [],
   "source": []
  }
 ],
 "metadata": {
  "kernelspec": {
   "display_name": "Python 3",
   "language": "python",
   "name": "python3"
  },
  "language_info": {
   "codemirror_mode": {
    "name": "ipython",
    "version": 3
   },
   "file_extension": ".py",
   "mimetype": "text/x-python",
   "name": "python",
   "nbconvert_exporter": "python",
   "pygments_lexer": "ipython3",
   "version": "3.8.3"
  }
 },
 "nbformat": 4,
 "nbformat_minor": 4
}
